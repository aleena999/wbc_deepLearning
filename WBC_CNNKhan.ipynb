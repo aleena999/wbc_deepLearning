{
  "nbformat": 4,
  "nbformat_minor": 0,
  "metadata": {
    "colab": {
      "name": "mrKhan CNN.ipynb",
      "provenance": [],
      "authorship_tag": "ABX9TyOrLxu7EWeqbad5csMAFwUW",
      "include_colab_link": true
    },
    "kernelspec": {
      "name": "python3",
      "display_name": "Python 3"
    },
    "language_info": {
      "name": "python"
    },
    "accelerator": "GPU"
  },
  "cells": [
    {
      "cell_type": "markdown",
      "metadata": {
        "id": "view-in-github",
        "colab_type": "text"
      },
      "source": [
        "<a href=\"https://colab.research.google.com/github/aleena999/wbc_deepLearning/blob/main/WBC_CNNKhan.ipynb\" target=\"_parent\"><img src=\"https://colab.research.google.com/assets/colab-badge.svg\" alt=\"Open In Colab\"/></a>"
      ]
    },
    {
      "cell_type": "code",
      "execution_count": 1,
      "metadata": {
        "colab": {
          "base_uri": "https://localhost:8080/"
        },
        "id": "uzyYzsIjLWgI",
        "outputId": "cfb57caa-30fb-4cb2-f6e8-af40822aad57"
      },
      "outputs": [
        {
          "output_type": "stream",
          "name": "stdout",
          "text": [
            "Cloning into 'Blood-Cell-Subtypes-Classification'...\n",
            "remote: Enumerating objects: 113, done.\u001b[K\n",
            "remote: Total 113 (delta 0), reused 0 (delta 0), pack-reused 113\u001b[K\n",
            "Receiving objects: 100% (113/113), 1.49 MiB | 8.79 MiB/s, done.\n",
            "Resolving deltas: 100% (30/30), done.\n"
          ]
        }
      ],
      "source": [
        "!git clone https://github.com/MrKhan0747/Blood-Cell-Subtypes-Classification.git"
      ]
    },
    {
      "cell_type": "code",
      "source": [
        "!unzip /content/Blood-Cell-Subtypes-Classification/dataset2-master.zip"
      ],
      "metadata": {
        "colab": {
          "base_uri": "https://localhost:8080/"
        },
        "id": "HHu9nOSMQNtS",
        "outputId": "676596d7-2c6b-4fcc-fbc8-b299f3000fd1"
      },
      "execution_count": 10,
      "outputs": [
        {
          "output_type": "stream",
          "name": "stdout",
          "text": [
            "Archive:  /content/Blood-Cell-Subtypes-Classification/dataset2-master.zip\n",
            "  End-of-central-directory signature not found.  Either this file is not\n",
            "  a zipfile, or it constitutes one disk of a multi-part archive.  In the\n",
            "  latter case the central directory and zipfile comment will be found on\n",
            "  the last disk(s) of this archive.\n",
            "unzip:  cannot find zipfile directory in one of /content/Blood-Cell-Subtypes-Classification/dataset2-master.zip or\n",
            "        /content/Blood-Cell-Subtypes-Classification/dataset2-master.zip.zip, and cannot find /content/Blood-Cell-Subtypes-Classification/dataset2-master.zip.ZIP, period.\n"
          ]
        }
      ]
    },
    {
      "cell_type": "code",
      "source": [
        "#Blood cell subtype classification\n",
        "import pandas as pd\n",
        "import cv2 as cv\n",
        "import numpy as np\n",
        "import matplotlib.pyplot as plt\n",
        "import os\n",
        "import seaborn as sns\n",
        "\n"
      ],
      "metadata": {
        "id": "ISUDyMBcMWgp"
      },
      "execution_count": 3,
      "outputs": []
    },
    {
      "cell_type": "code",
      "source": [
        "#TRAIN AND TEST DATASET ADDRESS\n",
        "DATASET=\"./dataset2-master/images/TRAIN\"\n",
        "TEST_DATASET=\"./dataset2-master/images/TEST\"\n",
        "\n",
        "#Categroized images\n",
        "#4 types of subcells\n",
        "CATEGORIES=[\"EOSINOPHIL\",\"LYMPHOCYTE\",\"MONOCYTE\",\"NEUTROPHIL\"]\n",
        "\n"
      ],
      "metadata": {
        "id": "q9Z1MFIqay67"
      },
      "execution_count": 4,
      "outputs": []
    },
    {
      "cell_type": "code",
      "source": [
        "#reading original image from directory\n",
        "for category in CATEGORIES:\n",
        "        label=CATEGORIES.index(category)\n",
        "        path=os.path.join(DATASET,category)\n",
        "        \n",
        "        for img_file in os.listdir(path):\n",
        "            \n",
        "            # 1 indicates read image in RGB scale\n",
        "            # 0 indicates read image in grey scale\n",
        "            \n",
        "            img=cv.imread(os.path.join(path,img_file),1)\n",
        "            \n",
        "            #open cv read image in BGR format \n",
        "            #below we convert it to RGB format\n",
        "            img=cv.cvtColor(img,cv.COLOR_BGR2RGB)\n",
        "            #print(img.shape)\n",
        "            plt.imshow(img)\n",
        "            plt.show()\n",
        "            break\n",
        "            \n",
        "        #plotting single image from each folder\n"
      ],
      "metadata": {
        "colab": {
          "base_uri": "https://localhost:8080/",
          "height": 234
        },
        "id": "dTe1ff16a7-0",
        "outputId": "215dbea4-162c-480e-ba42-3eff3fac8e16"
      },
      "execution_count": 5,
      "outputs": [
        {
          "output_type": "error",
          "ename": "FileNotFoundError",
          "evalue": "ignored",
          "traceback": [
            "\u001b[0;31m---------------------------------------------------------------------------\u001b[0m",
            "\u001b[0;31mFileNotFoundError\u001b[0m                         Traceback (most recent call last)",
            "\u001b[0;32m<ipython-input-5-70952f9eff23>\u001b[0m in \u001b[0;36m<module>\u001b[0;34m()\u001b[0m\n\u001b[1;32m      4\u001b[0m         \u001b[0mpath\u001b[0m\u001b[0;34m=\u001b[0m\u001b[0mos\u001b[0m\u001b[0;34m.\u001b[0m\u001b[0mpath\u001b[0m\u001b[0;34m.\u001b[0m\u001b[0mjoin\u001b[0m\u001b[0;34m(\u001b[0m\u001b[0mDATASET\u001b[0m\u001b[0;34m,\u001b[0m\u001b[0mcategory\u001b[0m\u001b[0;34m)\u001b[0m\u001b[0;34m\u001b[0m\u001b[0;34m\u001b[0m\u001b[0m\n\u001b[1;32m      5\u001b[0m \u001b[0;34m\u001b[0m\u001b[0m\n\u001b[0;32m----> 6\u001b[0;31m         \u001b[0;32mfor\u001b[0m \u001b[0mimg_file\u001b[0m \u001b[0;32min\u001b[0m \u001b[0mos\u001b[0m\u001b[0;34m.\u001b[0m\u001b[0mlistdir\u001b[0m\u001b[0;34m(\u001b[0m\u001b[0mpath\u001b[0m\u001b[0;34m)\u001b[0m\u001b[0;34m:\u001b[0m\u001b[0;34m\u001b[0m\u001b[0;34m\u001b[0m\u001b[0m\n\u001b[0m\u001b[1;32m      7\u001b[0m \u001b[0;34m\u001b[0m\u001b[0m\n\u001b[1;32m      8\u001b[0m             \u001b[0;31m# 1 indicates read image in RGB scale\u001b[0m\u001b[0;34m\u001b[0m\u001b[0;34m\u001b[0m\u001b[0;34m\u001b[0m\u001b[0m\n",
            "\u001b[0;31mFileNotFoundError\u001b[0m: [Errno 2] No such file or directory: './dataset2-master/images/TRAIN/EOSINOPHIL'"
          ]
        }
      ]
    },
    {
      "cell_type": "code",
      "source": [
        "\n",
        "#reading image from directory\n",
        "for category in CATEGORIES:\n",
        "        label=CATEGORIES.index(category)\n",
        "        path=os.path.join(DATASET,category)\n",
        "        \n",
        "        for img_file in os.listdir(path):\n",
        "            \n",
        "            # 1 indicates read image in RGB scale\n",
        "            # 0 indicates read image in grey scale\n",
        "            \n",
        "            img=cv.imread(os.path.join(path,img_file),1)\n",
        "            img=cv.cvtColor(img,cv.COLOR_BGR2RGB)\n",
        "            dst = cv.fastNlMeansDenoisingColored(img,None,5,10,7,21)\n",
        "            #image convert to smaller pixels 60*60\n",
        "            #print(img.shape)\n",
        "            plt.figure(figsize=(10,8))\n",
        "            plt.subplot(121)\n",
        "            plt.imshow(dst)\n",
        "            plt.subplot(122)\n",
        "            plt.imshow(img)\n",
        "            plt.show()\n",
        "            break\n",
        "            \n",
        "        #plotting single image from each folder\n",
        "\n"
      ],
      "metadata": {
        "id": "LiTyhfREcUXc"
      },
      "execution_count": null,
      "outputs": []
    },
    {
      "cell_type": "code",
      "source": [
        "#make train data\n",
        "train_data=[]\n",
        "\n",
        "for category in CATEGORIES:\n",
        "    \n",
        "        #each cateogry into unique integer\n",
        "        label=CATEGORIES.index(category)\n",
        "        path=os.path.join(DATASET,category)\n",
        "        \n",
        "        for img_file in os.listdir(path):\n",
        "            \n",
        "            img=cv.imread(os.path.join(path,img_file),1)\n",
        "            img=cv.cvtColor(img,cv.COLOR_BGR2RGB)\n",
        "            #dst = cv.fastNlMeansDenoisingColored(img,None,5,10,7,21)\n",
        "            img=cv.resize(img,(60,60))            \n",
        "            train_data.append([img,label])\n",
        "\n"
      ],
      "metadata": {
        "id": "dUZ4KUegcd2G"
      },
      "execution_count": null,
      "outputs": []
    },
    {
      "cell_type": "code",
      "source": [
        "#make test data\n",
        "test_data=[]\n",
        "\n",
        "for category in CATEGORIES:\n",
        "       \n",
        "        #each cateogry into unique integer\n",
        "        label=CATEGORIES.index(category)\n",
        "        path=os.path.join(TEST_DATASET,category)\n",
        "        \n",
        "        for img_file in os.listdir(path):\n",
        "            \n",
        "            img=cv.imread(os.path.join(path,img_file),1)\n",
        "            img=cv.cvtColor(img,cv.COLOR_BGR2RGB)\n",
        "            #dst = cv.fastNlMeansDenoisingColored(img,None,5,10,7,21)\n",
        "            img=cv.resize(img,(60,60))\n",
        "            test_data.append([img,label])\n",
        "\n"
      ],
      "metadata": {
        "id": "a1_snkR5cjqZ"
      },
      "execution_count": null,
      "outputs": []
    },
    {
      "cell_type": "code",
      "source": [
        "#print total data in train and test\n",
        "print(len(train_data))\n",
        "print(len(test_data))\n",
        "\n"
      ],
      "metadata": {
        "id": "YJZJU-Ymczss"
      },
      "execution_count": null,
      "outputs": []
    },
    {
      "cell_type": "code",
      "source": [
        "#shuffle the dataset fo good result\n",
        "\n",
        "import random\n",
        "\n",
        "random.shuffle(train_data)\n",
        "random.shuffle(test_data)\n",
        "\n"
      ],
      "metadata": {
        "id": "GXfRzCx4areD"
      },
      "execution_count": null,
      "outputs": []
    },
    {
      "cell_type": "code",
      "source": [
        "#check the data\n",
        "for lbl in train_data[:10]:\n",
        "    print(lbl[1])\n",
        "\n"
      ],
      "metadata": {
        "id": "N4UdkUZ5dCCZ"
      },
      "execution_count": null,
      "outputs": []
    },
    {
      "cell_type": "code",
      "source": [
        "#lets seprate the feature and target variable\n",
        "train_X=[]\n",
        "train_y=[]\n",
        "\n",
        "for features,label in train_data:\n",
        "    train_X.append(features)\n",
        "    train_y.append(label)\n",
        "\n",
        "len(train_X),len(train_y)\n",
        "\n"
      ],
      "metadata": {
        "id": "wgTd8rM2dQPd"
      },
      "execution_count": null,
      "outputs": []
    },
    {
      "cell_type": "code",
      "source": [
        "#lets seprate the feature and target variable\n",
        "test_X=[]\n",
        "test_y=[]\n",
        "\n",
        "for features,label in test_data:\n",
        "    test_X.append(features)\n",
        "    test_y.append(label)\n",
        "\n",
        "len(test_X),len(test_y)\n",
        "\n"
      ],
      "metadata": {
        "id": "7Vl-kAxrdWs_"
      },
      "execution_count": null,
      "outputs": []
    },
    {
      "cell_type": "code",
      "source": [
        "#convert image array to numpy array\n",
        "#-1 means same size\n",
        "# 40*40 means height and width\n",
        "# 3 for R+G+B\n",
        "train_X=np.array(train_X).reshape(-1,60,60,3)\n",
        "train_X=train_X/255.0\n",
        "train_X.shape\n",
        "\n",
        "#we divide the np array by 255 to close all values to 0\n",
        "\n"
      ],
      "metadata": {
        "id": "4hiP8D_kdfHA"
      },
      "execution_count": null,
      "outputs": []
    },
    {
      "cell_type": "code",
      "source": [
        "#convert image array to numpy array\n",
        "#-1 means same size\n",
        "# 40*40 means height and width\n",
        "# 3 for R+G+B\n",
        "\n",
        "test_X=np.array(test_X).reshape(-1,60,60,3)\n",
        "test_X=test_X/255.0\n",
        "test_X.shape\n",
        "\n",
        "#we divide the np array by 255 to close all values to 0\n",
        "\n"
      ],
      "metadata": {
        "id": "MwryE2S_diMw"
      },
      "execution_count": null,
      "outputs": []
    },
    {
      "cell_type": "code",
      "source": [
        "#count labels\n",
        "\n",
        "sns.countplot(train_y,palette='Set3')\n",
        "#we can see each categroy has equal data "
      ],
      "metadata": {
        "id": "OLVGCIN7duSo"
      },
      "execution_count": null,
      "outputs": []
    },
    {
      "cell_type": "code",
      "source": [
        "from tensorflow.keras.utils import to_categorical\n",
        "from keras.utils import to_categorical\n",
        "#train y\n",
        "one_hot_train=to_categorical(train_y)\n",
        "one_hot_train"
      ],
      "metadata": {
        "id": "4FOMCEkFd059"
      },
      "execution_count": null,
      "outputs": []
    },
    {
      "cell_type": "code",
      "source": [
        "#test_y\n",
        "one_hot_test=to_categorical(test_y)\n",
        "one_hot_test\n",
        "\n",
        "#build the models\n",
        "#import Keras libraries\n",
        "\n",
        "from tensorflow.keras.models import Sequential\n",
        "from tensorflow.keras.layers import Conv2D,Dense,Flatten,MaxPooling2D,Dropout,Activation\n",
        "\n",
        "model=Sequential()\n",
        "\n",
        "model.add(Conv2D(32,(3,3),activation='relu',input_shape=(60,60,3)))\n",
        "model.add(MaxPooling2D(pool_size=(2,2)))\n",
        "model.add(Dropout(0.20))\n",
        "\n",
        "model.add(Conv2D(64,(3,3),activation='relu'))\n",
        "model.add(MaxPooling2D(pool_size=(2,2)))\n",
        "model.add(Dropout(0.20))\n",
        "\n",
        "model.add(Conv2D(128,(3,3),activation='relu'))\n",
        "model.add(MaxPooling2D(pool_size=(2,2)))\n",
        "model.add(Dropout(0.40))\n",
        "\n",
        "model.add(Flatten())\n",
        "\n",
        "model.add(Dense(64,activation='relu'))\n",
        "model.add(Dense(128,activation='relu'))\n",
        "model.add(Dense(64,activation='relu'))\n",
        "          \n",
        "model.add(Dense(4,activation='softmax'))\n",
        "\n",
        "model.summary()\n",
        "\n",
        "#we will choose adam optimizer\n",
        "#we have 4 categories so loss function is categorical_crossentropy\n",
        "#metrics accuracy\n",
        "model.compile(optimizer='adam',loss='categorical_crossentropy',metrics=['accuracy'])\n",
        "\n",
        "#lets split the 20% train dataset for validation \n",
        "hist=model.fit(train_X,one_hot_train,epochs=50,batch_size=128,validation_split=0.2)\n",
        "\n",
        "#model evaluation\n",
        "test_loss,test_acc=model.evaluate(test_X,one_hot_test)\n",
        "test_loss,test_acc\n",
        "\n",
        "#train and validation loss\n",
        "plt.plot(hist.history['loss'])\n",
        "plt.plot(hist.history['val_loss'])\n",
        "plt.title('Model Loss')\n",
        "plt.ylabel('Loss')\n",
        "plt.xlabel('Epoch')\n",
        "plt.legend(['train','Validation'],loc='upper left')\n",
        "plt.show()\n",
        "\n",
        "#train and validation accuracy\n",
        "plt.plot(hist.history['acc'])\n",
        "plt.plot(hist.history['val_acc'])\n",
        "plt.title('Model Accuracy')\n",
        "plt.ylabel('Accuracy')\n",
        "plt.xlabel('Epoch')\n",
        "plt.legend(['train','Validation'],loc='upper left')\n",
        "plt.show()\n",
        "\n",
        "#model prediction\n",
        "\n",
        "y_pred=model.predict_classes(test_X)\n",
        "y_pred\n",
        "\n",
        "for i in range(10):\n",
        "\tprint(\"Actual=%s, Predicted=%s\" % (test_y[i], y_pred[i]))\n",
        "\n",
        "#accuracy_score\n",
        "from sklearn.metrics import accuracy_score,confusion_matrix\n",
        "accuracy_score(test_y,y_pred)\n",
        "\n",
        "\n",
        "sns.heatmap(confusion_matrix(test_y,y_pred))"
      ],
      "metadata": {
        "id": "qc91zTrZd6jF"
      },
      "execution_count": null,
      "outputs": []
    }
  ]
}